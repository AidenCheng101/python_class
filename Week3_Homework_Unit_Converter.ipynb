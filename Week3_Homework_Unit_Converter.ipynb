{
 "cells": [
  {
   "cell_type": "markdown",
   "id": "83530cfd",
   "metadata": {},
   "source": [
    "Meters to Millimeters Converter"
   ]
  },
  {
   "cell_type": "code",
   "execution_count": 1,
   "id": "32158d1c",
   "metadata": {},
   "outputs": [
    {
     "name": "stdout",
     "output_type": "stream",
     "text": [
      "How many meters do you want to change to millimeters? 1\n",
      "1000 millimeters\n"
     ]
    }
   ],
   "source": [
    "meters=input('How many meters do you want to change to millimeters? ')\n",
    "meters=int(meters)\n",
    "print(str(meters*1000) + ' millimeters') "
   ]
  },
  {
   "cell_type": "markdown",
   "id": "a8e8adcd",
   "metadata": {},
   "source": [
    "Temperature Converter"
   ]
  },
  {
   "cell_type": "code",
   "execution_count": 2,
   "id": "b503cc82",
   "metadata": {},
   "outputs": [
    {
     "name": "stdout",
     "output_type": "stream",
     "text": [
      "How many degrees in celcius do you want to change to fahrenheit? 0\n",
      "32.0 degrees in fahrenheit\n"
     ]
    }
   ],
   "source": [
    "celcius=input('How many degrees in celcius do you want to change to fahrenheit? ')\n",
    "celcius=int(celcius)\n",
    "print(str((celcius*9/5)+32) + ' degrees in fahrenheit') "
   ]
  },
  {
   "cell_type": "code",
   "execution_count": null,
   "id": "6dc27ad5",
   "metadata": {},
   "outputs": [],
   "source": []
  }
 ],
 "metadata": {
  "kernelspec": {
   "display_name": "Python 3",
   "language": "python",
   "name": "python3"
  },
  "language_info": {
   "codemirror_mode": {
    "name": "ipython",
    "version": 3
   },
   "file_extension": ".py",
   "mimetype": "text/x-python",
   "name": "python",
   "nbconvert_exporter": "python",
   "pygments_lexer": "ipython3",
   "version": "3.8.8"
  }
 },
 "nbformat": 4,
 "nbformat_minor": 5
}
