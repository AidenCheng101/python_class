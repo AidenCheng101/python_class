{
 "cells": [
  {
   "cell_type": "code",
   "execution_count": null,
   "id": "950c7501",
   "metadata": {},
   "outputs": [],
   "source": [
    "print('Hello World!')"
   ]
  },
  {
   "cell_type": "code",
   "execution_count": null,
   "id": "c616a04f",
   "metadata": {},
   "outputs": [],
   "source": [
    "My_name = ('Aiden')"
   ]
  },
  {
   "cell_type": "code",
   "execution_count": null,
   "id": "d18b9848",
   "metadata": {},
   "outputs": [],
   "source": [
    "print (My_name)"
   ]
  },
  {
   "cell_type": "code",
   "execution_count": null,
   "id": "20f769fe",
   "metadata": {},
   "outputs": [],
   "source": [
    "Name=input('What is your name?') # Assign an input to a variable. This\n",
    "print('Nice to meet you, '+Name+'!')"
   ]
  },
  {
   "cell_type": "code",
   "execution_count": null,
   "id": "88b404cd",
   "metadata": {},
   "outputs": [],
   "source": [
    "Food=input('What is your favorite food?')\n",
    "print('hmm `` I love '+Food+' too! That is yummy! !')"
   ]
  },
  {
   "cell_type": "code",
   "execution_count": 1,
   "id": "614e08cd",
   "metadata": {},
   "outputs": [
    {
     "name": "stdout",
     "output_type": "stream",
     "text": [
      "What is your favorite game? Rocket League\n",
      "Rocket League sounds like a very fun game!\n"
     ]
    }
   ],
   "source": [
    "Game=input('What is your favorite game? ')\n",
    "print(Game+' sounds like a very fun game!')"
   ]
  },
  {
   "cell_type": "code",
   "execution_count": 11,
   "id": "e4de1051",
   "metadata": {},
   "outputs": [
    {
     "name": "stdout",
     "output_type": "stream",
     "text": [
      "What number do you want to be squared? 100\n",
      "10000\n"
     ]
    }
   ],
   "source": [
    "x=int(input('What number do you want to be squared? ' ))\n",
    "print(x**2)"
   ]
  },
  {
   "cell_type": "code",
   "execution_count": null,
   "id": "d58eb218",
   "metadata": {},
   "outputs": [],
   "source": []
  }
 ],
 "metadata": {
  "kernelspec": {
   "display_name": "Python 3",
   "language": "python",
   "name": "python3"
  },
  "language_info": {
   "codemirror_mode": {
    "name": "ipython",
    "version": 3
   },
   "file_extension": ".py",
   "mimetype": "text/x-python",
   "name": "python",
   "nbconvert_exporter": "python",
   "pygments_lexer": "ipython3",
   "version": "3.8.8"
  }
 },
 "nbformat": 4,
 "nbformat_minor": 5
}
