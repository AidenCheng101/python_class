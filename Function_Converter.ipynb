{
 "cells": [
  {
   "cell_type": "markdown",
   "id": "e970bb7e",
   "metadata": {},
   "source": [
    "                                       Meter to centimeter conversion"
   ]
  },
  {
   "cell_type": "code",
   "execution_count": 3,
   "id": "c9b8c7da",
   "metadata": {},
   "outputs": [],
   "source": [
    "def meter_function(x):\n",
    "    y = x*100\n",
    "    return y"
   ]
  },
  {
   "cell_type": "code",
   "execution_count": 4,
   "id": "35c9307c",
   "metadata": {},
   "outputs": [
    {
     "data": {
      "text/plain": [
       "100"
      ]
     },
     "execution_count": 4,
     "metadata": {},
     "output_type": "execute_result"
    }
   ],
   "source": [
    "meter_function(1)"
   ]
  },
  {
   "cell_type": "markdown",
   "id": "b1c16dee",
   "metadata": {},
   "source": [
    "                                 Meter to centimeter and kilometer conversion"
   ]
  },
  {
   "cell_type": "code",
   "execution_count": 5,
   "id": "bc0f828d",
   "metadata": {},
   "outputs": [],
   "source": [
    "def meter_function_2(x):\n",
    "    y1 = x*100\n",
    "    y2 = x/1000\n",
    "    return y1, y2"
   ]
  },
  {
   "cell_type": "code",
   "execution_count": 6,
   "id": "28f34425",
   "metadata": {},
   "outputs": [
    {
     "data": {
      "text/plain": [
       "(100000, 1.0)"
      ]
     },
     "execution_count": 6,
     "metadata": {},
     "output_type": "execute_result"
    }
   ],
   "source": [
    "meter_function_2(1000)"
   ]
  },
  {
   "cell_type": "code",
   "execution_count": 7,
   "id": "1a90ccaa",
   "metadata": {},
   "outputs": [],
   "source": [
    "a1, a2 = meter_function_2(1000)"
   ]
  },
  {
   "cell_type": "code",
   "execution_count": 9,
   "id": "33ae944b",
   "metadata": {},
   "outputs": [
    {
     "name": "stdout",
     "output_type": "stream",
     "text": [
      "Aiden wants to do a 1.0 kilometer run\n"
     ]
    }
   ],
   "source": [
    "print('Aiden wants to do a '+str(a2)+' kilometer run')"
   ]
  }
 ],
 "metadata": {
  "kernelspec": {
   "display_name": "Python 3",
   "language": "python",
   "name": "python3"
  },
  "language_info": {
   "codemirror_mode": {
    "name": "ipython",
    "version": 3
   },
   "file_extension": ".py",
   "mimetype": "text/x-python",
   "name": "python",
   "nbconvert_exporter": "python",
   "pygments_lexer": "ipython3",
   "version": "3.8.8"
  }
 },
 "nbformat": 4,
 "nbformat_minor": 5
}
