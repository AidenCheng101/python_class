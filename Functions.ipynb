{
 "cells": [
  {
   "cell_type": "code",
   "execution_count": null,
   "id": "3d9b13ad",
   "metadata": {},
   "outputs": [],
   "source": [
    "def myfun(x):\n",
    "    y = x + 5\n",
    "    return y"
   ]
  },
  {
   "cell_type": "code",
   "execution_count": null,
   "id": "27232ff2",
   "metadata": {},
   "outputs": [],
   "source": [
    "myfun(10)"
   ]
  },
  {
   "cell_type": "code",
   "execution_count": null,
   "id": "3eb481fc",
   "metadata": {},
   "outputs": [],
   "source": [
    "x+x**2+x**3+x**4"
   ]
  },
  {
   "cell_type": "code",
   "execution_count": 1,
   "id": "de56f9cb",
   "metadata": {},
   "outputs": [
    {
     "data": {
      "text/plain": [
       "30"
      ]
     },
     "execution_count": 1,
     "metadata": {},
     "output_type": "execute_result"
    }
   ],
   "source": [
    "2+2**2+2**3+2**4"
   ]
  },
  {
   "cell_type": "code",
   "execution_count": 2,
   "id": "014b597c",
   "metadata": {},
   "outputs": [
    {
     "data": {
      "text/plain": [
       "168420"
      ]
     },
     "execution_count": 2,
     "metadata": {},
     "output_type": "execute_result"
    }
   ],
   "source": [
    "20+20**2+20**3+20**4"
   ]
  },
  {
   "cell_type": "code",
   "execution_count": 3,
   "id": "df04f442",
   "metadata": {},
   "outputs": [],
   "source": [
    "def aiden_function(x):\n",
    "    y = x+x**2+x**3+x**4\n",
    "    return y"
   ]
  },
  {
   "cell_type": "code",
   "execution_count": 4,
   "id": "c146bb7f",
   "metadata": {},
   "outputs": [
    {
     "data": {
      "text/plain": [
       "30"
      ]
     },
     "execution_count": 4,
     "metadata": {},
     "output_type": "execute_result"
    }
   ],
   "source": [
    "aiden_function(2)"
   ]
  },
  {
   "cell_type": "code",
   "execution_count": 5,
   "id": "90143564",
   "metadata": {},
   "outputs": [
    {
     "data": {
      "text/plain": [
       "168420"
      ]
     },
     "execution_count": 5,
     "metadata": {},
     "output_type": "execute_result"
    }
   ],
   "source": [
    "aiden_function(20)"
   ]
  },
  {
   "cell_type": "code",
   "execution_count": 6,
   "id": "49652e18",
   "metadata": {},
   "outputs": [
    {
     "data": {
      "text/plain": [
       "1608040200"
      ]
     },
     "execution_count": 6,
     "metadata": {},
     "output_type": "execute_result"
    }
   ],
   "source": [
    "aiden_function(200)"
   ]
  },
  {
   "cell_type": "code",
   "execution_count": 12,
   "id": "4f423250",
   "metadata": {},
   "outputs": [
    {
     "data": {
      "text/plain": [
       "16008004002000"
      ]
     },
     "execution_count": 12,
     "metadata": {},
     "output_type": "execute_result"
    }
   ],
   "source": [
    "aiden_function(2000)"
   ]
  },
  {
   "cell_type": "code",
   "execution_count": 18,
   "id": "93ccdea9",
   "metadata": {},
   "outputs": [
    {
     "data": {
      "text/plain": [
       "200"
      ]
     },
     "execution_count": 18,
     "metadata": {},
     "output_type": "execute_result"
    }
   ],
   "source": [
    "def rectangle_function(x):\n",
    "    y = x\n",
    "    return y\n",
    "\n",
    "def rectangle_function_2(z):\n",
    "    a = z\n",
    "    return a\n",
    "rectangle_function(10)*rectangle_function_2(20)"
   ]
  },
  {
   "cell_type": "code",
   "execution_count": 20,
   "id": "caef304a",
   "metadata": {},
   "outputs": [
    {
     "data": {
      "text/plain": [
       "1200"
      ]
     },
     "execution_count": 20,
     "metadata": {},
     "output_type": "execute_result"
    }
   ],
   "source": [
    "30*40"
   ]
  },
  {
   "cell_type": "code",
   "execution_count": 3,
   "id": "53c46bba",
   "metadata": {},
   "outputs": [],
   "source": [
    "def ara():\n",
    "    length=10\n",
    "    width=10\n",
    "    area=length*width\n",
    "    print(area)"
   ]
  },
  {
   "cell_type": "code",
   "execution_count": 4,
   "id": "730366f0",
   "metadata": {},
   "outputs": [
    {
     "name": "stdout",
     "output_type": "stream",
     "text": [
      "100\n"
     ]
    }
   ],
   "source": [
    "area()"
   ]
  },
  {
   "cell_type": "code",
   "execution_count": 10,
   "id": "3380ed12",
   "metadata": {},
   "outputs": [],
   "source": [
    "def add(x):\n",
    "    result = x+5\n",
    "    return result"
   ]
  },
  {
   "cell_type": "code",
   "execution_count": 11,
   "id": "df78c29f",
   "metadata": {},
   "outputs": [
    {
     "data": {
      "text/plain": [
       "10"
      ]
     },
     "execution_count": 11,
     "metadata": {},
     "output_type": "execute_result"
    }
   ],
   "source": [
    "add(5)"
   ]
  },
  {
   "cell_type": "code",
   "execution_count": 13,
   "id": "6228a602",
   "metadata": {},
   "outputs": [],
   "source": [
    "def area(x,y):\n",
    "    result = x*y\n",
    "    return result"
   ]
  },
  {
   "cell_type": "code",
   "execution_count": 14,
   "id": "4a336dc9",
   "metadata": {},
   "outputs": [
    {
     "data": {
      "text/plain": [
       "30"
      ]
     },
     "execution_count": 14,
     "metadata": {},
     "output_type": "execute_result"
    }
   ],
   "source": [
    "area(5,6)"
   ]
  },
  {
   "cell_type": "code",
   "execution_count": 15,
   "id": "e4197026",
   "metadata": {},
   "outputs": [],
   "source": [
    "def perimeter(x,y):\n",
    "    result = (x+y)*2\n",
    "    return result"
   ]
  },
  {
   "cell_type": "code",
   "execution_count": 17,
   "id": "9e17e8f5",
   "metadata": {},
   "outputs": [
    {
     "data": {
      "text/plain": [
       "22"
      ]
     },
     "execution_count": 17,
     "metadata": {},
     "output_type": "execute_result"
    }
   ],
   "source": [
    "perimeter(5,6)"
   ]
  },
  {
   "cell_type": "code",
   "execution_count": 21,
   "id": "2d1c3de3",
   "metadata": {},
   "outputs": [
    {
     "data": {
      "text/plain": [
       "200"
      ]
     },
     "execution_count": 21,
     "metadata": {},
     "output_type": "execute_result"
    }
   ],
   "source": [
    "area(10,20)"
   ]
  },
  {
   "cell_type": "code",
   "execution_count": 64,
   "id": "6b507360",
   "metadata": {},
   "outputs": [],
   "source": [
    "def things(x,y):\n",
    "    result1 = (x*y)      \n",
    "    result2 = (x+y)*2\n",
    "    return result1,result2"
   ]
  },
  {
   "cell_type": "code",
   "execution_count": null,
   "id": "cecf5c3a",
   "metadata": {},
   "outputs": [],
   "source": []
  }
 ],
 "metadata": {
  "kernelspec": {
   "display_name": "Python 3",
   "language": "python",
   "name": "python3"
  },
  "language_info": {
   "codemirror_mode": {
    "name": "ipython",
    "version": 3
   },
   "file_extension": ".py",
   "mimetype": "text/x-python",
   "name": "python",
   "nbconvert_exporter": "python",
   "pygments_lexer": "ipython3",
   "version": "3.8.8"
  }
 },
 "nbformat": 4,
 "nbformat_minor": 5
}
